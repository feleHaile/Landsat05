{
 "cells": [
  {
   "cell_type": "code",
   "execution_count": 1,
   "metadata": {},
   "outputs": [],
   "source": [
    "%matplotlib notebook\n",
    "%load_ext autoreload\n",
    "%autoreload 2"
   ]
  },
  {
   "cell_type": "code",
   "execution_count": 20,
   "metadata": {},
   "outputs": [],
   "source": [
    "import os\n",
    "import gdal\n",
    "import rasterio as rs"
   ]
  },
  {
   "cell_type": "code",
   "execution_count": 7,
   "metadata": {},
   "outputs": [
    {
     "name": "stdout",
     "output_type": "stream",
     "text": [
      "['.ipynb_checkpoints', 'LC08_L1TP_169056_20140330_20170424_01_T1_B4.tiff', 'LC08_L1TP_169056_20190312_20190325_01_T1_B1.tiff', 'LC08_L1TP_169056_20190312_20190325_01_T1_B11.tiff', 'LC08_L1TP_169056_20190312_20190325_01_T1_B2.tiff', 'LC08_L1TP_169056_20190312_20190325_01_T1_B3.tiff', 'LC08_L1TP_169056_20190312_20190325_01_T1_B4.tiff', 'LC08_L1TP_169056_20190312_20190325_01_T1_B5.tiff', 'LC08_L1TP_169056_20190312_20190325_01_T1_B6.tiff', 'LC08_L1TP_169056_20190312_20190325_01_T1_B7.tiff', 'LC08_L1TP_169056_20190312_20190325_01_T1_B8.tiff', 'LC08_L1TP_169056_20190312_20190325_01_T1_B9.tiff', 'LC08_L1TP_169056_20190312_20190325_01_T1_BQA.tiff', 'Untitled.ipynb']\n"
     ]
    }
   ],
   "source": [
    "# Store the directory path where the landsat images are stored.\n",
    "BASE_DIR = os.path.join(os.getcwd(), 'C:/Users/mac/Documents/LC08')\n",
    "# Get a list of the images\n",
    "ALL_LS8 = os.listdir(BASE_DIR)\n",
    "print(ALL_LS8)"
   ]
  },
  {
   "cell_type": "code",
   "execution_count": 8,
   "metadata": {},
   "outputs": [],
   "source": [
    "# Create a helper function for getting band filenames\n",
    "def get_band_filename(band_num):\n",
    "    band_id = 'B{0}'.format(band_num)\n",
    "    for img_file in ALL_LS8:\n",
    "        if band_id in img_file:\n",
    "            return os.path.join(BASE_DIR, img_file)"
   ]
  },
  {
   "cell_type": "code",
   "execution_count": 9,
   "metadata": {},
   "outputs": [],
   "source": [
    "# Open a single band with GDAL\n",
    "file_b8 = get_band_filename(8)\n",
    "img_pan = gdal.Open(file_b8)"
   ]
  },
  {
   "cell_type": "code",
   "execution_count": 10,
   "metadata": {},
   "outputs": [
    {
     "name": "stdout",
     "output_type": "stream",
     "text": [
      "PROJCS[\"WGS 84 / UTM zone 37N\",GEOGCS[\"WGS 84\",DATUM[\"WGS_1984\",SPHEROID[\"WGS 84\",6378137,298.257223563,AUTHORITY[\"EPSG\",\"7030\"]],AUTHORITY[\"EPSG\",\"6326\"]],PRIMEM[\"Greenwich\",0,AUTHORITY[\"EPSG\",\"8901\"]],UNIT[\"degree\",0.0174532925199433,AUTHORITY[\"EPSG\",\"9122\"]],AUTHORITY[\"EPSG\",\"4326\"]],PROJECTION[\"Transverse_Mercator\"],PARAMETER[\"latitude_of_origin\",0],PARAMETER[\"central_meridian\",39],PARAMETER[\"scale_factor\",0.9996],PARAMETER[\"false_easting\",500000],PARAMETER[\"false_northing\",0],UNIT[\"metre\",1,AUTHORITY[\"EPSG\",\"9001\"]],AXIS[\"Easting\",EAST],AXIS[\"Northing\",NORTH],AUTHORITY[\"EPSG\",\"32637\"]]\n"
     ]
    }
   ],
   "source": [
    "# Get the raster projection\n",
    "print(img_pan.GetProjectionRef())"
   ]
  },
  {
   "cell_type": "code",
   "execution_count": 11,
   "metadata": {},
   "outputs": [
    {
     "name": "stdout",
     "output_type": "stream",
     "text": [
      "Num of Rasters: 1\n",
      "Pixel width: 15201\n",
      "Pixel height: 15521\n",
      "Top Left (origin) x: 176092.5\n",
      "Top Left (origin) y: 755707.5\n",
      "Pixel Width: 15.0\n",
      "Pixel Height: -15.0\n"
     ]
    }
   ],
   "source": [
    "# Get some of the properties of the raster\n",
    "print('Num of Rasters:', img_pan.RasterCount)\n",
    "print('Pixel width:', img_pan.RasterXSize)\n",
    "print('Pixel height:', img_pan.RasterYSize)\n",
    "geo_trans = img_pan.GetGeoTransform()\n",
    "print('Top Left (origin) x:', geo_trans[0])\n",
    "print('Top Left (origin) y:', geo_trans[3])\n",
    "print('Pixel Width:', geo_trans[1])\n",
    "print('Pixel Height:', geo_trans[5])"
   ]
  },
  {
   "cell_type": "code",
   "execution_count": 12,
   "metadata": {},
   "outputs": [
    {
     "name": "stdout",
     "output_type": "stream",
     "text": [
      "UInt16\n"
     ]
    }
   ],
   "source": [
    "# Get the data type of the raster\n",
    "band = img_pan.GetRasterBand(1)\n",
    "band_type = gdal.GetDataTypeName(band.DataType)\n",
    "print(band_type)"
   ]
  },
  {
   "cell_type": "code",
   "execution_count": 13,
   "metadata": {},
   "outputs": [],
   "source": [
    "# Let's open the rest of the bands\n",
    "img_blue = gdal.Open(get_band_filename(2))\n",
    "img_green = gdal.Open(get_band_filename(3))\n",
    "img_red = gdal.Open(get_band_filename(4))\n",
    "img_nir = gdal.Open(get_band_filename(5))\n",
    "img_swir = gdal.Open(get_band_filename(6))"
   ]
  },
  {
   "cell_type": "markdown",
   "metadata": {},
   "source": [
    "### Display Images"
   ]
  },
  {
   "cell_type": "code",
   "execution_count": null,
   "metadata": {},
   "outputs": [],
   "source": [
    "# Display RGB, Be patient...\n",
    "rs.show([img_red, img_green, img_blue], enhance=['equ'])"
   ]
  }
 ],
 "metadata": {
  "kernelspec": {
   "display_name": "Python 3",
   "language": "python",
   "name": "python3"
  },
  "language_info": {
   "codemirror_mode": {
    "name": "ipython",
    "version": 3
   },
   "file_extension": ".py",
   "mimetype": "text/x-python",
   "name": "python",
   "nbconvert_exporter": "python",
   "pygments_lexer": "ipython3",
   "version": "3.7.3"
  }
 },
 "nbformat": 4,
 "nbformat_minor": 2
}
